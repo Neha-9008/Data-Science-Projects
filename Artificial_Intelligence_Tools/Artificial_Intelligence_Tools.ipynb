{
  "nbformat": 4,
  "nbformat_minor": 0,
  "metadata": {
    "colab": {
      "provenance": []
    },
    "kernelspec": {
      "name": "python3",
      "display_name": "Python 3"
    },
    "language_info": {
      "name": "python"
    }
  },
  "cells": [
    {
      "cell_type": "markdown",
      "source": [
        "# Data Preparation and Analysis"
      ],
      "metadata": {
        "id": "h0ns2v_0axTq"
      }
    },
    {
      "cell_type": "code",
      "source": [
        "import pandas as pd\n",
        "\n",
        "# Load the dataset\n",
        "file_path = '/content/all_ai_tool.csv'\n",
        "df = pd.read_csv(file_path)\n",
        "\n",
        "# Print column names to check for 'Major Category'\n",
        "print(df.columns)\n",
        "\n",
        "# Print first few rows to inspect data structure\n",
        "print(df.head())\n",
        "\n",
        "# Check for 'Major Category' in columns and display its value counts\n",
        "if 'Major Category' in df.columns:\n",
        "    category_distribution = df['Major Category'].value_counts().reset_index(name='count')\n",
        "    category_distribution.columns = ['Major Category', 'Count']\n",
        "    print(category_distribution)\n",
        "else:\n",
        "    print(\"Column 'Major Category' not found in the dataset.\")\n"
      ],
      "metadata": {
        "colab": {
          "base_uri": "https://localhost:8080/"
        },
        "id": "nK-bVuP4QfBx",
        "outputId": "4f3fc896-9588-469d-aff7-34050de84a7a"
      },
      "execution_count": null,
      "outputs": [
        {
          "output_type": "stream",
          "name": "stdout",
          "text": [
            "Index(['AI Tool Name', 'Charges', 'Review', 'cluster'], dtype='object')\n",
            "    AI Tool Name  Charges  Review  cluster\n",
            "0         Farm3D     0.00     0.0        1\n",
            "1  Mailbutler Ai     4.95     1.0        1\n",
            "2       Maverick   100.00     0.0        1\n",
            "3           0Xai     0.00     0.0        1\n",
            "4          10Web     0.00     0.0        1\n",
            "Column 'Major Category' not found in the dataset.\n"
          ]
        }
      ]
    },
    {
      "cell_type": "code",
      "source": [
        "# Print column names to check for 'Major Category'\n",
        "print(df.columns)\n",
        "\n",
        "# Print first few rows to inspect data structure\n",
        "print(df.head())\n"
      ],
      "metadata": {
        "colab": {
          "base_uri": "https://localhost:8080/"
        },
        "id": "muaUNc9jRRuk",
        "outputId": "f30a4a90-8a21-4fca-d737-612288415b62"
      },
      "execution_count": null,
      "outputs": [
        {
          "output_type": "stream",
          "name": "stdout",
          "text": [
            "Index(['AI Tool Name', 'Charges', 'Review', 'cluster'], dtype='object')\n",
            "    AI Tool Name  Charges  Review  cluster\n",
            "0         Farm3D     0.00     0.0        1\n",
            "1  Mailbutler Ai     4.95     1.0        1\n",
            "2       Maverick   100.00     0.0        1\n",
            "3           0Xai     0.00     0.0        1\n",
            "4          10Web     0.00     0.0        1\n"
          ]
        }
      ]
    },
    {
      "cell_type": "markdown",
      "source": [
        "# User Behavior Analysis Based on Available Data"
      ],
      "metadata": {
        "id": "MdqfQp6fa7Eq"
      }
    },
    {
      "cell_type": "code",
      "source": [
        "\n",
        "# Step 2: Analyze Tools by Review\n",
        "\n",
        "# Analyze the tools based on their review\n",
        "review_distribution = df['Review'].value_counts().reset_index(name='count')\n",
        "review_distribution.columns = ['Review', 'Count']\n",
        "print(review_distribution)\n",
        "\n",
        "# Categorize tools based on charges\n",
        "df['Price Category'] = pd.cut(df['Charges'], bins=[-1, 0, 100, np.inf], labels=['Free', 'Paid (Under $100)', 'Paid (Over $100)'])\n",
        "\n",
        "# Analyze distribution of price categories\n",
        "price_distribution = df['Price Category'].value_counts().reset_index(name='count')\n",
        "price_distribution.columns = ['Price Category', 'Count']\n",
        "print(price_distribution)"
      ],
      "metadata": {
        "colab": {
          "base_uri": "https://localhost:8080/"
        },
        "id": "b7-D_wgcSI6g",
        "outputId": "8a76f12c-ac8a-4cf7-fcee-b9b4324c783d"
      },
      "execution_count": null,
      "outputs": [
        {
          "output_type": "stream",
          "name": "stdout",
          "text": [
            "    Review  Count\n",
            "0      0.0   3510\n",
            "1      1.0    942\n",
            "2      2.0    256\n",
            "3      3.0    108\n",
            "4      4.0     53\n",
            "5      6.0     20\n",
            "6      5.0     20\n",
            "7      8.0     17\n",
            "8      7.0     16\n",
            "9      9.0      8\n",
            "10    10.0      6\n",
            "11    11.0      4\n",
            "12    14.0      3\n",
            "13    15.0      2\n",
            "14    13.0      2\n",
            "15    22.0      1\n",
            "16    42.0      1\n",
            "      Price Category  Count\n",
            "0               Free   2648\n",
            "1  Paid (Under $100)   2237\n",
            "2   Paid (Over $100)     84\n"
          ]
        }
      ]
    },
    {
      "cell_type": "code",
      "source": [
        "print(df.head())"
      ],
      "metadata": {
        "colab": {
          "base_uri": "https://localhost:8080/"
        },
        "id": "4Jke07NGTpPl",
        "outputId": "33fe7f33-8aab-4de7-c721-56b13a820299"
      },
      "execution_count": null,
      "outputs": [
        {
          "output_type": "stream",
          "name": "stdout",
          "text": [
            "    AI Tool Name  Charges  Review  cluster\n",
            "0         Farm3D     0.00     0.0        1\n",
            "1  Mailbutler Ai     4.95     1.0        1\n",
            "2       Maverick   100.00     0.0        1\n",
            "3           0Xai     0.00     0.0        1\n",
            "4          10Web     0.00     0.0        1\n"
          ]
        }
      ]
    },
    {
      "cell_type": "markdown",
      "source": [
        "# Clustering Tools by Charges and Review"
      ],
      "metadata": {
        "id": "70v_e3-wbXLs"
      }
    },
    {
      "cell_type": "code",
      "source": [
        "# Prepare the data for clustering\n",
        "clustering_data = df[['Charges', 'Review']]\n",
        "\n",
        "# Ensure the data is numeric (though you've already done this earlier)\n",
        "clustering_data = clustering_data.apply(pd.to_numeric, errors='coerce').fillna(0)\n",
        "\n",
        "# Scale the data using StandardScaler\n",
        "scaler = StandardScaler()\n",
        "clustering_data_scaled = scaler.fit_transform(clustering_data)\n"
      ],
      "metadata": {
        "id": "TcKMw_n8T_je"
      },
      "execution_count": null,
      "outputs": []
    },
    {
      "cell_type": "code",
      "source": [
        "from sklearn.cluster import KMeans\n",
        "\n",
        "# Define features for clustering\n",
        "clustering_data = df[['Charges', 'Review']]\n",
        "\n",
        "# Ensure the data is numeric (though you've already done this earlier)\n",
        "clustering_data = clustering_data.apply(pd.to_numeric, errors='coerce').fillna(0)\n",
        "\n",
        "# Scale the data using StandardScaler\n",
        "scaler = StandardScaler()\n",
        "clustering_data_scaled = scaler.fit_transform(clustering_data)\n",
        "\n",
        "# Define the number of clusters\n",
        "num_clusters = 3\n",
        "\n",
        "# Explicitly set n_init to suppress FutureWarning\n",
        "kmeans = KMeans(n_clusters=num_clusters, random_state=42, n_init=10)\n",
        "df['cluster'] = kmeans.fit_predict(clustering_data_scaled)\n",
        "\n",
        "# Print the clustered data to verify\n",
        "print(df[['AI Tool Name', 'Charges', 'Review', 'cluster']].head())\n"
      ],
      "metadata": {
        "colab": {
          "base_uri": "https://localhost:8080/"
        },
        "id": "qTZQ4PtJUCiN",
        "outputId": "ff68fe91-7342-4af8-8c6f-330cb5e4a8e8"
      },
      "execution_count": null,
      "outputs": [
        {
          "output_type": "stream",
          "name": "stdout",
          "text": [
            "    AI Tool Name  Charges  Review  cluster\n",
            "0         Farm3D     0.00     0.0        1\n",
            "1  Mailbutler Ai     4.95     1.0        1\n",
            "2       Maverick   100.00     0.0        1\n",
            "3           0Xai     0.00     0.0        1\n",
            "4          10Web     0.00     0.0        1\n"
          ]
        }
      ]
    },
    {
      "cell_type": "code",
      "source": [
        "# Print the clustered data\n",
        "print(df[['AI Tool Name', 'Charges', 'Review', 'cluster']].head())\n"
      ],
      "metadata": {
        "colab": {
          "base_uri": "https://localhost:8080/"
        },
        "id": "RkFqadbzUGBK",
        "outputId": "fa5bfb02-89d7-4f63-ba16-1bd8efcf640f"
      },
      "execution_count": null,
      "outputs": [
        {
          "output_type": "stream",
          "name": "stdout",
          "text": [
            "    AI Tool Name  Charges  Review  cluster\n",
            "0         Farm3D     0.00     0.0        1\n",
            "1  Mailbutler Ai     4.95     1.0        1\n",
            "2       Maverick   100.00     0.0        1\n",
            "3           0Xai     0.00     0.0        1\n",
            "4          10Web     0.00     0.0        1\n"
          ]
        }
      ]
    },
    {
      "cell_type": "markdown",
      "source": [
        "# Content-Based Recommendation System"
      ],
      "metadata": {
        "id": "eGGn5b0rblP0"
      }
    },
    {
      "cell_type": "code",
      "source": [
        "import pandas as pd\n",
        "from sklearn.cluster import KMeans\n",
        "from sklearn.feature_extraction.text import TfidfVectorizer\n",
        "from sklearn.metrics.pairwise import linear_kernel\n",
        "from sklearn.preprocessing import StandardScaler\n",
        "\n",
        "# Load your dataset (assuming 'df' is already loaded)\n",
        "file_path = '/content/all_ai_tool.csv'\n",
        "df = pd.read_csv(file_path)\n",
        "\n",
        "# Define features for clustering\n",
        "clustering_data = df[['Charges', 'Review']]\n",
        "\n",
        "# Ensure the data is numeric\n",
        "clustering_data = clustering_data.apply(pd.to_numeric, errors='coerce').fillna(0)\n",
        "\n",
        "# Scale the data using StandardScaler\n",
        "scaler = StandardScaler()\n",
        "clustering_data_scaled = scaler.fit_transform(clustering_data)\n",
        "\n",
        "# Define the number of clusters\n",
        "num_clusters = 3\n",
        "\n",
        "# Apply K-means clustering\n",
        "kmeans = KMeans(n_clusters=num_clusters, random_state=42, n_init=10)\n",
        "df['cluster'] = kmeans.fit_predict(clustering_data_scaled)\n",
        "\n",
        "# Function to get recommendations based on cosine similarity\n",
        "def get_recommendations(tool_name, df=df):\n",
        "    # Combine relevant text features for the recommendation system\n",
        "    df['combined_features'] = df['AI Tool Name'].astype(str) + ' ' + df['Charges'].astype(str)\n",
        "\n",
        "    # Convert text to TF-IDF feature vectors\n",
        "    tfidf = TfidfVectorizer(stop_words='english')\n",
        "    tfidf_matrix = tfidf.fit_transform(df['combined_features'])\n",
        "\n",
        "    # Compute cosine similarity between tools\n",
        "    cosine_sim = linear_kernel(tfidf_matrix, tfidf_matrix)\n",
        "\n",
        "    # Check if the tool exists\n",
        "    if tool_name not in df['AI Tool Name'].values:\n",
        "        return f\"Tool '{tool_name}' not found in the dataset.\"\n",
        "\n",
        "    # Get the index of the tool that matches the tool_name\n",
        "    idx = df[df['AI Tool Name'] == tool_name].index[0]\n",
        "\n",
        "    # Get the pairwise similarity scores of all tools with that tool\n",
        "    sim_scores = list(enumerate(cosine_sim[idx]))\n",
        "\n",
        "    # Sort the tools based on similarity scores\n",
        "    sim_scores = sorted(sim_scores, key=lambda x: x[1], reverse=True)\n",
        "\n",
        "    # Get the scores of the 10 most similar tools\n",
        "    sim_scores = sim_scores[1:11]\n",
        "\n",
        "    # Get the tool indices\n",
        "    tool_indices = [i[0] for i in sim_scores]\n",
        "\n",
        "    # Return the top 10 most similar tools\n",
        "    return df[['AI Tool Name', 'Charges', 'Review', 'cluster']].iloc[tool_indices]\n",
        "\n",
        "# Example: Get recommendations for a specific tool after clustering\n",
        "recommendations = get_recommendations('Mailbutler Ai')\n",
        "print(recommendations)\n"
      ],
      "metadata": {
        "colab": {
          "base_uri": "https://localhost:8080/"
        },
        "id": "BGKregwXU0iu",
        "outputId": "93444429-9a8b-4e78-8b28-3b195c451a0b"
      },
      "execution_count": null,
      "outputs": [
        {
          "output_type": "stream",
          "name": "stdout",
          "text": [
            "     AI Tool Name  Charges  Review  cluster\n",
            "510        Avc.Ai     9.95     0.0        1\n",
            "2660     Maskr.Ai     7.95     0.0        1\n",
            "169     Ai Suitup    19.95     1.0        1\n",
            "3291     Pooks.Ai    19.95     0.0        1\n",
            "267        Ajelix     5.95     1.0        1\n",
            "977       Clipgpt     3.95     0.0        1\n",
            "1059       Compar     8.95     1.0        1\n",
            "2073       Hubble    95.00     0.0        1\n",
            "3645  Resumemaker     4.95     0.0        1\n",
            "3994         Soon     5.95     1.0        1\n"
          ]
        }
      ]
    },
    {
      "cell_type": "code",
      "source": [
        "# Export clustered data\n",
        "df[['AI Tool Name', 'Charges', 'Review', 'cluster']].to_csv('/content/clustered_tools.csv', index=False)\n"
      ],
      "metadata": {
        "id": "IbE01ZgnVnF3"
      },
      "execution_count": null,
      "outputs": []
    },
    {
      "cell_type": "markdown",
      "source": [
        "# Export Analysis Results for Visualization"
      ],
      "metadata": {
        "id": "noXESuVtbrIx"
      }
    },
    {
      "cell_type": "code",
      "source": [
        "from sklearn.cluster import KMeans\n",
        "from sklearn.preprocessing import StandardScaler\n",
        "\n",
        "# Define features for clustering\n",
        "clustering_data = df[['Charges', 'Review']]\n",
        "\n",
        "# Scale the features\n",
        "scaler = StandardScaler()\n",
        "clustering_data_scaled = scaler.fit_transform(clustering_data)\n",
        "\n",
        "# Define the number of clusters\n",
        "num_clusters = 3\n",
        "\n",
        "# Explicitly set n_init to suppress FutureWarning\n",
        "kmeans = KMeans(n_clusters=num_clusters, random_state=42, n_init=10)  # Set n_init to 10 or another suitable value\n",
        "# Adjust n_init to avoid the warning and ensure consistent behavior\n",
        "\n",
        "# Apply K-means clustering\n",
        "df['cluster'] = kmeans.fit_predict(clustering_data_scaled)\n",
        "\n",
        "# Print the clustered data to verify\n",
        "print(df[['AI Tool Name', 'Charges', 'Review', 'cluster']].head())\n"
      ],
      "metadata": {
        "colab": {
          "base_uri": "https://localhost:8080/"
        },
        "id": "oVKIL2RQVsaN",
        "outputId": "e63dcc61-77e3-43f6-df19-be53674d1bdf"
      },
      "execution_count": null,
      "outputs": [
        {
          "output_type": "stream",
          "name": "stdout",
          "text": [
            "    AI Tool Name  Charges  Review  cluster\n",
            "0         Farm3D     0.00     0.0        1\n",
            "1  Mailbutler Ai     4.95     1.0        1\n",
            "2       Maverick   100.00     0.0        1\n",
            "3           0Xai     0.00     0.0        1\n",
            "4          10Web     0.00     0.0        1\n"
          ]
        }
      ]
    },
    {
      "cell_type": "markdown",
      "source": [],
      "metadata": {
        "id": "gm6ztA71VsG2"
      }
    },
    {
      "cell_type": "markdown",
      "source": [
        "# Plotting a line Chart for Major Categories of AI Tools"
      ],
      "metadata": {
        "id": "IZOWQBn-ctHK"
      }
    },
    {
      "cell_type": "code",
      "source": [
        "import pandas as pd\n",
        "import matplotlib.pyplot as plt\n",
        "import seaborn as sns  # Import Seaborn for enhanced styling\n",
        "\n",
        "# Load the dataset\n",
        "file_path = '/content/all_ai_tool.csv'\n",
        "df = pd.read_csv(file_path)\n",
        "\n",
        "# Calculate the frequency of each AI tool\n",
        "tool_counts = df['AI Tool Name'].value_counts().reset_index(name='count')\n",
        "tool_counts.columns = ['AI Tool Name', 'Count']\n",
        "\n",
        "# Sort the tools by count (optional, if you want to show them sorted)\n",
        "tool_counts = tool_counts.sort_values(by='Count', ascending=False).head(10)\n",
        "\n",
        "# Plotting the line chart with Seaborn style\n",
        "plt.figure(figsize=(12, 6))\n",
        "sns.lineplot(data=tool_counts, x='AI Tool Name', y='Count', marker='o', color='skyblue', linewidth=2.5)\n",
        "plt.xlabel('AI Tool Name', fontsize=12)\n",
        "plt.ylabel('Frequency', fontsize=12)\n",
        "plt.title('Top 10 Most Used AI Tools', fontsize=14)\n",
        "plt.xticks(rotation=45, ha='right', fontsize=10)  # Rotates and adjusts font size of x-axis labels\n",
        "plt.yticks(fontsize=10)  # Adjusts font size of y-axis labels\n",
        "plt.grid(True, linestyle='--', alpha=0.7)  # Adds grid with dashed lines and reduced opacity\n",
        "plt.tight_layout()\n",
        "\n",
        "# Display the plot\n",
        "plt.show()\n"
      ],
      "metadata": {
        "colab": {
          "base_uri": "https://localhost:8080/",
          "height": 480
        },
        "id": "lEl1U0gLWXEb",
        "outputId": "28f5b4b9-1e1a-4338-cd8f-acf2a356048a"
      },
      "execution_count": null,
      "outputs": [
        {
          "output_type": "display_data",
          "data": {
            "text/plain": [
              "<Figure size 1200x600 with 1 Axes>"
            ],
            "image/png": "[encoded data removed]"
          },
          "metadata": {}
        }
      ]
    },
    {
      "cell_type": "markdown",
      "source": [
        "# SQL Integration"
      ],
      "metadata": {
        "id": "4vC9Jod0b6ov"
      }
    },
    {
      "cell_type": "code",
      "source": [
        "# Import SQLite library\n",
        "import sqlite3\n",
        "\n",
        "import matplotlib.pyplot as plt\n",
        "\n",
        "# Connect to SQLite database (creates a new database if it doesn't exist)\n",
        "conn = sqlite3.connect('user_behavior.db')\n"
      ],
      "metadata": {
        "id": "FtmJV9_sWWxc"
      },
      "execution_count": null,
      "outputs": []
    },
    {
      "cell_type": "markdown",
      "source": [
        "# Creating Tables"
      ],
      "metadata": {
        "id": "LOU7_p7WcBoj"
      }
    },
    {
      "cell_type": "code",
      "source": [
        "# Create a table for user actions\n",
        "create_user_actions_table = \"\"\"\n",
        "CREATE TABLE IF NOT EXISTS user_actions (\n",
        "    id INTEGER PRIMARY KEY AUTOINCREMENT,\n",
        "    user_id INTEGER,\n",
        "    action TEXT,\n",
        "    timestamp DATETIME\n",
        ");\n",
        "\"\"\"\n",
        "\n",
        "# Execute the SQL statement\n",
        "conn.execute(create_user_actions_table)\n"
      ],
      "metadata": {
        "colab": {
          "base_uri": "https://localhost:8080/"
        },
        "id": "epK3joeVWbqk",
        "outputId": "14e72447-d61f-498a-fc9f-cab14cb6580d"
      },
      "execution_count": null,
      "outputs": [
        {
          "output_type": "execute_result",
          "data": {
            "text/plain": [
              "<sqlite3.Cursor at 0x799431ea4840>"
            ]
          },
          "metadata": {},
          "execution_count": 81
        }
      ]
    },
    {
      "cell_type": "markdown",
      "source": [
        "# Inserting Sample Data"
      ],
      "metadata": {
        "id": "ap1gzSqPcFUt"
      }
    },
    {
      "cell_type": "code",
      "source": [
        "# Sample data insertion into user_actions table\n",
        "sample_data_insertion = \"\"\"\n",
        "INSERT INTO user_actions (user_id, action, timestamp)\n",
        "VALUES\n",
        "    (1, 'login', '2024-07-15 10:30:00'),\n",
        "    (2, 'view_page', '2024-07-15 10:35:00'),\n",
        "    (1, 'logout', '2024-07-15 11:00:00'),\n",
        "    (3, 'view_page', '2024-07-15 11:15:00');\n",
        "\"\"\"\n",
        "\n",
        "# Execute the SQL statement\n",
        "conn.executescript(sample_data_insertion)\n"
      ],
      "metadata": {
        "colab": {
          "base_uri": "https://localhost:8080/"
        },
        "id": "JupGyDrBWc-B",
        "outputId": "c0d39404-81d0-46a3-b796-54480d6fec6c"
      },
      "execution_count": null,
      "outputs": [
        {
          "output_type": "execute_result",
          "data": {
            "text/plain": [
              "<sqlite3.Cursor at 0x799431ea4540>"
            ]
          },
          "metadata": {},
          "execution_count": 82
        }
      ]
    },
    {
      "cell_type": "markdown",
      "source": [
        "# Performing User Behavior Analysis"
      ],
      "metadata": {
        "id": "xy8RWrLUcJ_Z"
      }
    },
    {
      "cell_type": "code",
      "source": [
        "# Query 1: Count total number of actions per user\n",
        "\n",
        "query1 = \"\"\"\n",
        "SELECT user_id, COUNT(*) AS num_actions\n",
        "FROM user_actions\n",
        "GROUP BY user_id;\n",
        "\"\"\"\n",
        "\n",
        "# Execute the query and fetch results\n",
        "results1 = conn.execute(query1).fetchall()\n",
        "print(\"User ID | Num Actions\")\n",
        "for row in results1:\n",
        "    print(f\"{row[0]} | {row[1]}\")\n"
      ],
      "metadata": {
        "colab": {
          "base_uri": "https://localhost:8080/"
        },
        "id": "rB8I1OEoWg6V",
        "outputId": "6e6e9ea5-810f-4d2e-b87f-9b4451e6ccaa"
      },
      "execution_count": null,
      "outputs": [
        {
          "output_type": "stream",
          "name": "stdout",
          "text": [
            "User ID | Num Actions\n",
            "1 | 2\n",
            "2 | 1\n",
            "3 | 1\n"
          ]
        }
      ]
    },
    {
      "cell_type": "code",
      "source": [
        "# Query 2: Find users who logged in after a certain time\n",
        "\n",
        "query2 = \"\"\"\n",
        "SELECT user_id, timestamp\n",
        "FROM user_actions\n",
        "WHERE action = 'login' AND timestamp > '2024-07-15 10:45:00';\n",
        "\"\"\"\n",
        "\n",
        "# Execute the query and fetch results\n",
        "results2 = conn.execute(query2).fetchall()\n",
        "print(\"User ID | Login Timestamp\")\n",
        "for row in results2:\n",
        "    print(f\"{row[0]} | {row[1]}\")\n",
        "\n"
      ],
      "metadata": {
        "colab": {
          "base_uri": "https://localhost:8080/"
        },
        "id": "WGmbUgzcWk7W",
        "outputId": "6c6d6e60-8769-4a0d-8801-9eeaba8c6d91"
      },
      "execution_count": null,
      "outputs": [
        {
          "output_type": "stream",
          "name": "stdout",
          "text": [
            "User ID | Login Timestamp\n"
          ]
        }
      ]
    },
    {
      "cell_type": "code",
      "source": [
        "# Close the connection\n",
        "conn.close()\n"
      ],
      "metadata": {
        "id": "CQ1OCSX5WqvX"
      },
      "execution_count": null,
      "outputs": []
    },
    {
      "cell_type": "markdown",
      "source": [
        "# Plotting User Actions"
      ],
      "metadata": {
        "id": "mGmznJ0ZcdN2"
      }
    },
    {
      "cell_type": "code",
      "source": [
        "# Connect to SQLite database\n",
        "conn = sqlite3.connect('user_behavior.db')\n",
        "\n",
        "# Query to count total number of actions per user\n",
        "query = \"\"\"\n",
        "SELECT user_id, COUNT(*) AS num_actions\n",
        "FROM user_actions\n",
        "GROUP BY user_id;\n",
        "\"\"\"\n",
        "\n",
        "# Execute the query and fetch results\n",
        "cursor = conn.execute(query)\n",
        "results = cursor.fetchall()\n",
        "\n",
        "# Close the connection\n",
        "conn.close()\n",
        "\n",
        "# Extract data for plotting\n",
        "user_ids = [row[0] for row in results]\n",
        "num_actions = [row[1] for row in results]\n",
        "\n",
        "# Plotting the data\n",
        "plt.figure(figsize=(10, 6))\n",
        "plt.bar(user_ids, num_actions, color='skyblue')\n",
        "plt.xlabel('User ID')\n",
        "plt.ylabel('Number of Actions')\n",
        "plt.title('Number of Actions per User')\n",
        "plt.xticks(user_ids)\n",
        "plt.grid(True)\n",
        "plt.show()\n"
      ],
      "metadata": {
        "colab": {
          "base_uri": "https://localhost:8080/",
          "height": 564
        },
        "id": "woTBqdG_XH-c",
        "outputId": "de42ccf1-17e7-4cce-d76a-98ed3d85e186"
      },
      "execution_count": null,
      "outputs": [
        {
          "output_type": "display_data",
          "data": {
            "text/plain": [
              "<Figure size 1000x600 with 1 Axes>"
            ],
            "image/png": "[encoded data removed]"
          },
          "metadata": {}
        }
      ]
    }
  ]
}